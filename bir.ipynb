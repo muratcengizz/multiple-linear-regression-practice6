{
 "cells": [
  {
   "cell_type": "markdown",
   "id": "c39e2c18-1dfd-4323-bb6a-b78b071ad789",
   "metadata": {},
   "source": [
    "### Banka, müşterilerinin demografik özelliklerini, gelirlerini, kredi kartı kullanımlarını ve diğer finansal bilgilerini içeren bir veri seti topladı.\n",
    "\n",
    "### Bu veri setini kendimiz oluşturacağımız için aykırı ve eksik gözlem analizi yapabilmek adına aykırı ve eksik gözlemleri de kendimiz oluşturacağız."
   ]
  },
  {
   "cell_type": "markdown",
   "id": "3a0ed34f-f4df-4054-9aa2-5cd94f96dce0",
   "metadata": {},
   "source": [
    "# Veri Setinin Oluşturulması"
   ]
  },
  {
   "cell_type": "code",
   "execution_count": 48,
   "id": "c63ea636-6857-49d3-b9e8-2f628c8fa7db",
   "metadata": {},
   "outputs": [],
   "source": [
    "import numpy as np\n",
    "import pandas as pd\n",
    "import seaborn as sns\n",
    "import matplotlib.pyplot as plt\n",
    "from sklearn.linear_model import LinearRegression, Lasso, Ridge, ElasticNet\n",
    "from sklearn.model_selection import train_test_split, GridSearchCV, cross_val_score\n",
    "from sklearn.metrics import mean_squared_error, r2_score\n",
    "from sklearn.impute import SimpleImputer\n",
    "from sklearn.pipeline import make_pipeline\n",
    "from sklearn.preprocessing import StandardScaler, LabelEncoder\n",
    "from scipy import stats"
   ]
  },
  {
   "cell_type": "code",
   "execution_count": 49,
   "id": "b8e41c74-1c40-49b4-8911-7cae1028de48",
   "metadata": {},
   "outputs": [
    {
     "data": {
      "text/html": [
       "<div>\n",
       "<style scoped>\n",
       "    .dataframe tbody tr th:only-of-type {\n",
       "        vertical-align: middle;\n",
       "    }\n",
       "\n",
       "    .dataframe tbody tr th {\n",
       "        vertical-align: top;\n",
       "    }\n",
       "\n",
       "    .dataframe thead th {\n",
       "        text-align: right;\n",
       "    }\n",
       "</style>\n",
       "<table border=\"1\" class=\"dataframe\">\n",
       "  <thead>\n",
       "    <tr style=\"text-align: right;\">\n",
       "      <th></th>\n",
       "      <th>age</th>\n",
       "      <th>gender</th>\n",
       "      <th>income</th>\n",
       "      <th>credit_score</th>\n",
       "      <th>credit_card_usage</th>\n",
       "      <th>savings_balance</th>\n",
       "    </tr>\n",
       "  </thead>\n",
       "  <tbody>\n",
       "    <tr>\n",
       "      <th>0</th>\n",
       "      <td>56</td>\n",
       "      <td>male</td>\n",
       "      <td>44448.004733</td>\n",
       "      <td>638.522520</td>\n",
       "      <td>6738.309185</td>\n",
       "      <td>23357.655859</td>\n",
       "    </tr>\n",
       "    <tr>\n",
       "      <th>1</th>\n",
       "      <td>46</td>\n",
       "      <td>female</td>\n",
       "      <td>68811.570694</td>\n",
       "      <td>724.834961</td>\n",
       "      <td>4088.920948</td>\n",
       "      <td>27640.156797</td>\n",
       "    </tr>\n",
       "    <tr>\n",
       "      <th>2</th>\n",
       "      <td>32</td>\n",
       "      <td>female</td>\n",
       "      <td>35519.860996</td>\n",
       "      <td>676.734477</td>\n",
       "      <td>3221.518344</td>\n",
       "      <td>24437.519837</td>\n",
       "    </tr>\n",
       "    <tr>\n",
       "      <th>3</th>\n",
       "      <td>60</td>\n",
       "      <td>female</td>\n",
       "      <td>28011.940434</td>\n",
       "      <td>694.702582</td>\n",
       "      <td>6910.601116</td>\n",
       "      <td>23804.233272</td>\n",
       "    </tr>\n",
       "    <tr>\n",
       "      <th>4</th>\n",
       "      <td>25</td>\n",
       "      <td>male</td>\n",
       "      <td>54400.144501</td>\n",
       "      <td>832.217167</td>\n",
       "      <td>6752.093585</td>\n",
       "      <td>20300.429973</td>\n",
       "    </tr>\n",
       "  </tbody>\n",
       "</table>\n",
       "</div>"
      ],
      "text/plain": [
       "   age  gender        income  credit_score  credit_card_usage  savings_balance\n",
       "0   56    male  44448.004733    638.522520        6738.309185     23357.655859\n",
       "1   46  female  68811.570694    724.834961        4088.920948     27640.156797\n",
       "2   32  female  35519.860996    676.734477        3221.518344     24437.519837\n",
       "3   60  female  28011.940434    694.702582        6910.601116     23804.233272\n",
       "4   25    male  54400.144501    832.217167        6752.093585     20300.429973"
      ]
     },
     "execution_count": 49,
     "metadata": {},
     "output_type": "execute_result"
    }
   ],
   "source": [
    "# veri setini oluşturma\n",
    "\n",
    "np.random.seed(42)\n",
    "\n",
    "age = np.random.randint(18, 65, size=1000)\n",
    "gender = np.random.choice(['male', 'female'], size=1000)\n",
    "income = np.random.normal(50000, 10000, size=1000)\n",
    "credit_score = np.random.normal(700, 50, size=1000)\n",
    "credit_score_usage = np.random.normal(5000, 2000, size=1000)\n",
    "savings_balance = np.random.normal(20000, 5000, size=1000)\n",
    "\n",
    "data = pd.DataFrame({\n",
    "    'age':age, 'gender':gender, 'income':income,\n",
    "    'credit_score':credit_score, 'credit_card_usage':credit_score_usage,\n",
    "    'savings_balance':savings_balance\n",
    "})\n",
    "\n",
    "data.head()"
   ]
  },
  {
   "cell_type": "markdown",
   "id": "2990d03d-621b-4282-9186-5dd6917ea1a9",
   "metadata": {},
   "source": [
    "# eksik verileri oluşturmak için, oluşturduğumuz veri setinde rastgele 50 değer belirleyerek, bu değerlerin yerine Nan değerlerini atayacağız."
   ]
  },
  {
   "cell_type": "code",
   "execution_count": 50,
   "id": "27d04865-84e3-4442-9ecb-efdb19650987",
   "metadata": {},
   "outputs": [
    {
     "name": "stderr",
     "output_type": "stream",
     "text": [
      "C:\\Users\\murat\\AppData\\Local\\Temp\\ipykernel_8528\\1421174783.py:3: SettingWithCopyWarning: \n",
      "A value is trying to be set on a copy of a slice from a DataFrame\n",
      "\n",
      "See the caveats in the documentation: https://pandas.pydata.org/pandas-docs/stable/user_guide/indexing.html#returning-a-view-versus-a-copy\n",
      "  data[col].iloc[nan_indices] = np.nan\n"
     ]
    }
   ],
   "source": [
    "nan_indices = np.random.choice(range(1000), size=50, replace=False)\n",
    "for col in data.columns:\n",
    "    data[col].iloc[nan_indices] = np.nan"
   ]
  },
  {
   "cell_type": "markdown",
   "id": "6de4ec2d-3d6d-4053-aec1-274f40e9ed22",
   "metadata": {},
   "source": [
    "### Aykırı verileri oluşturmak için, birkaç özellik için minimum ve maksimum değerleri belirleyerek, bu sınırların dışındaki değerleri rastgele bir şekilde belirleyeceğiz."
   ]
  },
  {
   "cell_type": "code",
   "execution_count": 51,
   "id": "c24541cf-88dd-46a0-9a8a-ba79338b0551",
   "metadata": {},
   "outputs": [
    {
     "data": {
      "text/html": [
       "<div>\n",
       "<style scoped>\n",
       "    .dataframe tbody tr th:only-of-type {\n",
       "        vertical-align: middle;\n",
       "    }\n",
       "\n",
       "    .dataframe tbody tr th {\n",
       "        vertical-align: top;\n",
       "    }\n",
       "\n",
       "    .dataframe thead th {\n",
       "        text-align: right;\n",
       "    }\n",
       "</style>\n",
       "<table border=\"1\" class=\"dataframe\">\n",
       "  <thead>\n",
       "    <tr style=\"text-align: right;\">\n",
       "      <th></th>\n",
       "      <th>age</th>\n",
       "      <th>gender</th>\n",
       "      <th>income</th>\n",
       "      <th>credit_score</th>\n",
       "      <th>credit_card_usage</th>\n",
       "      <th>savings_balance</th>\n",
       "    </tr>\n",
       "  </thead>\n",
       "  <tbody>\n",
       "    <tr>\n",
       "      <th>0</th>\n",
       "      <td>56.0</td>\n",
       "      <td>male</td>\n",
       "      <td>44448.004733</td>\n",
       "      <td>638.522520</td>\n",
       "      <td>6738.309185</td>\n",
       "      <td>23357.655859</td>\n",
       "    </tr>\n",
       "    <tr>\n",
       "      <th>1</th>\n",
       "      <td>46.0</td>\n",
       "      <td>female</td>\n",
       "      <td>68811.570694</td>\n",
       "      <td>724.834961</td>\n",
       "      <td>4088.920948</td>\n",
       "      <td>27640.156797</td>\n",
       "    </tr>\n",
       "    <tr>\n",
       "      <th>2</th>\n",
       "      <td>NaN</td>\n",
       "      <td>NaN</td>\n",
       "      <td>NaN</td>\n",
       "      <td>NaN</td>\n",
       "      <td>NaN</td>\n",
       "      <td>NaN</td>\n",
       "    </tr>\n",
       "    <tr>\n",
       "      <th>3</th>\n",
       "      <td>60.0</td>\n",
       "      <td>female</td>\n",
       "      <td>28011.940434</td>\n",
       "      <td>694.702582</td>\n",
       "      <td>6910.601116</td>\n",
       "      <td>23804.233272</td>\n",
       "    </tr>\n",
       "    <tr>\n",
       "      <th>4</th>\n",
       "      <td>NaN</td>\n",
       "      <td>NaN</td>\n",
       "      <td>NaN</td>\n",
       "      <td>NaN</td>\n",
       "      <td>NaN</td>\n",
       "      <td>NaN</td>\n",
       "    </tr>\n",
       "  </tbody>\n",
       "</table>\n",
       "</div>"
      ],
      "text/plain": [
       "    age  gender        income  credit_score  credit_card_usage  \\\n",
       "0  56.0    male  44448.004733    638.522520        6738.309185   \n",
       "1  46.0  female  68811.570694    724.834961        4088.920948   \n",
       "2   NaN     NaN           NaN           NaN                NaN   \n",
       "3  60.0  female  28011.940434    694.702582        6910.601116   \n",
       "4   NaN     NaN           NaN           NaN                NaN   \n",
       "\n",
       "   savings_balance  \n",
       "0     23357.655859  \n",
       "1     27640.156797  \n",
       "2              NaN  \n",
       "3     23804.233272  \n",
       "4              NaN  "
      ]
     },
     "execution_count": 51,
     "metadata": {},
     "output_type": "execute_result"
    }
   ],
   "source": [
    "data.loc[data['age'] < 20, 'age'] = np.random.randint(15, 19)\n",
    "data.loc[data['age'] > 60, 'age'] = np.random.randint(61, 65)\n",
    "\n",
    "\n",
    "data.loc[data['income'] < 20000, 'income'] = np.random.normal(15000, 5000)\n",
    "data.loc[data['income'] > 80000, 'income'] = np.random.normal(90000, 5000)\n",
    "\n",
    "data.loc[data['credit_score'] < 500, 'credit_score'] = np.random.normal(400, 50)\n",
    "data.loc[data['credit_score'] > 900, 'credit_score'] = np.random.normal(1000, 50)\n",
    "\n",
    "data.loc[data['credit_card_usage'] < 1000, 'credit_card_usage'] = np.random.normal(800, 200)\n",
    "data.loc[data['credit_card_usage'] > 10000, 'credit_card_usage'] = np.random.normal(11000, 2000)\n",
    "\n",
    "data.loc[data['savings_balance'] < 5000, 'savings_balance'] = np.random.normal(3000, 1000)\n",
    "data.loc[data['savings_balance'] > 40000, 'savings_balance'] = np.random.normal(45000, 5000)\n",
    "\n",
    "data.head()"
   ]
  },
  {
   "cell_type": "code",
   "execution_count": null,
   "id": "841b44f5-feb9-44bc-8b99-6c15bb7f3bdb",
   "metadata": {},
   "outputs": [],
   "source": []
  },
  {
   "cell_type": "markdown",
   "id": "650a9f08-f727-4d6b-9928-045e0486fde5",
   "metadata": {
    "tags": []
   },
   "source": [
    "# Hipotez Testi"
   ]
  },
  {
   "cell_type": "markdown",
   "id": "46271a64-0ad7-4e14-bd96-28f3ca52de23",
   "metadata": {},
   "source": [
    "## Hipotez Testi - 1\n",
    "### H0: Erkeklerin ortalama geliri kadınlardan daha yüksektir.\n",
    "### H1: Erkeklerin ortalama geliri kadınlardan daha yüksek değildir."
   ]
  },
  {
   "cell_type": "code",
   "execution_count": 52,
   "id": "08314b02-2480-423d-a5e7-215afee84f9b",
   "metadata": {},
   "outputs": [
    {
     "name": "stdout",
     "output_type": "stream",
     "text": [
      "T-Value: -0.0724808299611481, P-Value: 0.9422345495695429\n"
     ]
    }
   ],
   "source": [
    "male_income = data.loc[data['gender'] == 'male', 'income'].dropna()\n",
    "female_income = data.loc[data['gender'] == 'female', 'income'].dropna()\n",
    "\n",
    "t, p_value = stats.ttest_ind(male_income, female_income)\n",
    "print(f'T-Value: {t}, P-Value: {p_value}')"
   ]
  },
  {
   "cell_type": "markdown",
   "id": "3f194a36-1c32-43ee-a27f-a69971c8c45d",
   "metadata": {},
   "source": [
    "#### P-value değeri 0.05 'den büyük olduğu için hipotezimizi reddedemeyiz. Erkeklerin ortalama geliri kadınlardan daha yüksektir."
   ]
  },
  {
   "cell_type": "markdown",
   "id": "d6c88309-8020-4431-b141-9541c45d606a",
   "metadata": {},
   "source": [
    "## Hipotez Testi - 2\n",
    "### H0: Kredi Skoru ve kredi kartı kullanımı arasında bir ilişki vardır.\n",
    "### H1: Kredi skoru ve kredi kartı kullanımı arasında bir ilişki yoktur."
   ]
  },
  {
   "cell_type": "code",
   "execution_count": 53,
   "id": "01598ba4-3503-4a4f-83d1-621fb27cee07",
   "metadata": {},
   "outputs": [
    {
     "name": "stdout",
     "output_type": "stream",
     "text": [
      "Korelasyon: 0.02553114081506079, P-Value: 0.43185888554218216\n"
     ]
    }
   ],
   "source": [
    "credit_score = data['credit_score'].dropna()\n",
    "credit_card_usage = data['credit_card_usage'].dropna()\n",
    "\n",
    "corr, p_value = stats.pearsonr(credit_score,credit_card_usage)\n",
    "print(f'Korelasyon: {corr}, P-Value: {p_value}')"
   ]
  },
  {
   "cell_type": "markdown",
   "id": "64c5cba4-2de0-4a11-b716-76fd9aea3c44",
   "metadata": {},
   "source": [
    "#### P-Value değeri 0.05 'ten büyük olduğu için hipotezimizi reddedemeyiz. Kredi skoru ve kredi kartı kullanımı arasında bir ilişki vardır sonucuna ulaşırız."
   ]
  },
  {
   "cell_type": "markdown",
   "id": "50c44377-fd5c-4f22-ab4a-173211fc2a32",
   "metadata": {},
   "source": [
    "# Olasılık Hesaplamaları\n",
    "## Olasılık Hesabı - 1"
   ]
  },
  {
   "cell_type": "markdown",
   "id": "a0f55622-ed63-4871-a84a-8e70893822d3",
   "metadata": {},
   "source": [
    "### Banka müşterilerinin %75 'inin geliri 50000 'den azdır. Rastgele seçilen bir müşterinin gelirinin 50000 'den az olma olasılığı nedir ?"
   ]
  },
  {
   "cell_type": "markdown",
   "id": "7ceca412-6e94-4933-97d0-7992eac4a421",
   "metadata": {},
   "source": [
    "#### Geliri 50000 'den az olan müşterilerin yüzdesi, veri setindeki müşterilerin gelir dağılımına göre belirlenebilir. Aşağıdaki kod bloğu, geliri 50000 'den az olan müşterilerin yüzdesini hesaplar."
   ]
  },
  {
   "cell_type": "code",
   "execution_count": 54,
   "id": "66ead9b4-38cc-4ec0-b331-b8d974f4b677",
   "metadata": {},
   "outputs": [
    {
     "name": "stdout",
     "output_type": "stream",
     "text": [
      "Olasılık: 0.459\n"
     ]
    }
   ],
   "source": [
    "num_customers = len(data)\n",
    "\n",
    "less = len(data.loc[data['income'] < 50000])\n",
    "p = less / num_customers\n",
    "\n",
    "print(f'Olasılık: {p}')"
   ]
  },
  {
   "cell_type": "markdown",
   "id": "c22a3224-6829-4de2-aa55-fb65b64def89",
   "metadata": {},
   "source": [
    "#### Sonuç olarak, rastgele seçilen bir müşterinin gelirinin 50000 'den az olması olasılığı yaklaşık %45 'dir."
   ]
  },
  {
   "cell_type": "markdown",
   "id": "bd8370a4-9d2b-4126-8034-20e3856250d7",
   "metadata": {},
   "source": [
    "## Olasılık Hesabı - 2\n",
    "\n",
    "### Bir müşterinin kredi skoru 700 'den büyük ve aynı zamanda kredi kartı kullanımı 10000 'den az olması olasılığı nedir ?"
   ]
  },
  {
   "cell_type": "code",
   "execution_count": 55,
   "id": "2e05b9de-e54b-48ec-8275-57d3feddbc0d",
   "metadata": {},
   "outputs": [
    {
     "name": "stdout",
     "output_type": "stream",
     "text": [
      "Olasılık: 0.403\n"
     ]
    }
   ],
   "source": [
    "greater_than_700 = len(data.loc[data['credit_score'] > 700])\n",
    "less_than_10000 = len(data.loc[data['credit_card_usage'] < 10000])\n",
    "both_conditions = greater_than_700 & less_than_10000\n",
    "\n",
    "p = both_conditions / num_customers\n",
    "print(f'Olasılık: {p}')"
   ]
  },
  {
   "cell_type": "markdown",
   "id": "2307783e-88fd-4505-9233-531771753267",
   "metadata": {},
   "source": [
    "#### Sonuç olarak, bir müşterinin kredi skoru 700 'den büyük ve kredi kartı kullanımı 10000 'den az olma olasılığı yaklaşık %40 'dır."
   ]
  },
  {
   "cell_type": "code",
   "execution_count": null,
   "id": "8b7adcb1-ff27-4309-8c19-9c162d814895",
   "metadata": {},
   "outputs": [],
   "source": []
  },
  {
   "cell_type": "markdown",
   "id": "0da99c40-f2cd-4b7f-a593-356e8d1f291d",
   "metadata": {},
   "source": [
    "# Eksik Gözlemleri Doldurma"
   ]
  },
  {
   "cell_type": "code",
   "execution_count": 56,
   "id": "09113688-e5db-4124-821e-a8df53d9f54d",
   "metadata": {},
   "outputs": [
    {
     "data": {
      "text/plain": [
       "age                  50\n",
       "gender               50\n",
       "income               50\n",
       "credit_score         50\n",
       "credit_card_usage    50\n",
       "savings_balance      50\n",
       "dtype: int64"
      ]
     },
     "execution_count": 56,
     "metadata": {},
     "output_type": "execute_result"
    }
   ],
   "source": [
    "data.isnull().sum()"
   ]
  },
  {
   "cell_type": "code",
   "execution_count": 57,
   "id": "1c286f9e-74a7-4396-a827-b3b6b313941c",
   "metadata": {},
   "outputs": [],
   "source": [
    "# eksik gözlemleri sütun ortalaması ile dolduracağız.\n",
    "\n",
    "data['age'].fillna(data['age'].mean(), inplace=True)\n",
    "data['income'].fillna(data['income'].mean(), inplace=True)\n",
    "data['credit_score'].fillna(data['credit_score'].mean(), inplace=True)\n",
    "data['credit_card_usage'].fillna(data['credit_score'].mean(), inplace=True)\n",
    "data['savings_balance'].fillna(data['credit_score'].mean(), inplace=True)"
   ]
  },
  {
   "cell_type": "code",
   "execution_count": 58,
   "id": "2c6fdf41-29cd-4f72-b600-52ed672f53b6",
   "metadata": {},
   "outputs": [
    {
     "data": {
      "text/plain": [
       "age                   0\n",
       "gender               50\n",
       "income                0\n",
       "credit_score          0\n",
       "credit_card_usage     0\n",
       "savings_balance       0\n",
       "dtype: int64"
      ]
     },
     "execution_count": 58,
     "metadata": {},
     "output_type": "execute_result"
    }
   ],
   "source": [
    "data.isnull().sum()"
   ]
  },
  {
   "cell_type": "markdown",
   "id": "fb633a40-cb0f-49b4-a41c-868177dd666b",
   "metadata": {},
   "source": [
    "#### Kategorik değişken olan gender sütununu mode yöntemi ile dolduracağız."
   ]
  },
  {
   "cell_type": "code",
   "execution_count": 59,
   "id": "58c7cbc8-1f8b-4ebc-96ef-9ca6e45f5fbe",
   "metadata": {},
   "outputs": [],
   "source": [
    "data['gender'].fillna(data['gender'].mode()[0], inplace=True)"
   ]
  },
  {
   "cell_type": "code",
   "execution_count": 60,
   "id": "9cc867db-24cf-4cf9-a5b6-0e108712037c",
   "metadata": {},
   "outputs": [
    {
     "data": {
      "text/plain": [
       "age                  0\n",
       "gender               0\n",
       "income               0\n",
       "credit_score         0\n",
       "credit_card_usage    0\n",
       "savings_balance      0\n",
       "dtype: int64"
      ]
     },
     "execution_count": 60,
     "metadata": {},
     "output_type": "execute_result"
    }
   ],
   "source": [
    "data.isnull().sum()"
   ]
  },
  {
   "cell_type": "markdown",
   "id": "4b1f4c64-d330-4da6-96b7-b15fca3699be",
   "metadata": {},
   "source": [
    "# Aykırı Gözlemleri İşleme"
   ]
  },
  {
   "cell_type": "code",
   "execution_count": 61,
   "id": "f54ea36b-8f3d-4e8b-8650-4633c9e0f592",
   "metadata": {},
   "outputs": [
    {
     "data": {
      "image/png": "[encoded data removed]",
      "text/plain": [
       "<Figure size 432x288 with 1 Axes>"
      ]
     },
     "metadata": {
      "needs_background": "light"
     },
     "output_type": "display_data"
    }
   ],
   "source": [
    "sns.boxplot(data=data);"
   ]
  },
  {
   "cell_type": "code",
   "execution_count": 62,
   "id": "19a12ce0-0314-4347-afc4-b9f2d6f4dbe0",
   "metadata": {},
   "outputs": [
    {
     "name": "stderr",
     "output_type": "stream",
     "text": [
      "C:\\Users\\murat\\AppData\\Local\\Temp\\ipykernel_8528\\3137913936.py:9: SettingWithCopyWarning: \n",
      "A value is trying to be set on a copy of a slice from a DataFrame\n",
      "\n",
      "See the caveats in the documentation: https://pandas.pydata.org/pandas-docs/stable/user_guide/indexing.html#returning-a-view-versus-a-copy\n",
      "  data['income'][data['income'] < alt_sinir] = alt_sinir\n",
      "C:\\Users\\murat\\AppData\\Local\\Temp\\ipykernel_8528\\3137913936.py:10: SettingWithCopyWarning: \n",
      "A value is trying to be set on a copy of a slice from a DataFrame\n",
      "\n",
      "See the caveats in the documentation: https://pandas.pydata.org/pandas-docs/stable/user_guide/indexing.html#returning-a-view-versus-a-copy\n",
      "  data['income'][data['income'] > ust_sinir] = ust_sinir\n",
      "C:\\Users\\murat\\AppData\\Local\\Temp\\ipykernel_8528\\3137913936.py:20: SettingWithCopyWarning: \n",
      "A value is trying to be set on a copy of a slice from a DataFrame\n",
      "\n",
      "See the caveats in the documentation: https://pandas.pydata.org/pandas-docs/stable/user_guide/indexing.html#returning-a-view-versus-a-copy\n",
      "  data['credit_score'][data['credit_score'] < alt_sinir] = alt_sinir\n",
      "C:\\Users\\murat\\AppData\\Local\\Temp\\ipykernel_8528\\3137913936.py:21: SettingWithCopyWarning: \n",
      "A value is trying to be set on a copy of a slice from a DataFrame\n",
      "\n",
      "See the caveats in the documentation: https://pandas.pydata.org/pandas-docs/stable/user_guide/indexing.html#returning-a-view-versus-a-copy\n",
      "  data['credit_score'][data['credit_score'] > ust_sinir] = ust_sinir\n",
      "C:\\Users\\murat\\AppData\\Local\\Temp\\ipykernel_8528\\3137913936.py:32: SettingWithCopyWarning: \n",
      "A value is trying to be set on a copy of a slice from a DataFrame\n",
      "\n",
      "See the caveats in the documentation: https://pandas.pydata.org/pandas-docs/stable/user_guide/indexing.html#returning-a-view-versus-a-copy\n",
      "  data['credit_card_usage'][data['credit_card_usage'] < alt_sinir] = alt_sinir\n",
      "C:\\Users\\murat\\AppData\\Local\\Temp\\ipykernel_8528\\3137913936.py:33: SettingWithCopyWarning: \n",
      "A value is trying to be set on a copy of a slice from a DataFrame\n",
      "\n",
      "See the caveats in the documentation: https://pandas.pydata.org/pandas-docs/stable/user_guide/indexing.html#returning-a-view-versus-a-copy\n",
      "  data['credit_card_usage'][data['credit_card_usage'] > ust_sinir] = ust_sinir\n",
      "C:\\Users\\murat\\AppData\\Local\\Temp\\ipykernel_8528\\3137913936.py:44: SettingWithCopyWarning: \n",
      "A value is trying to be set on a copy of a slice from a DataFrame\n",
      "\n",
      "See the caveats in the documentation: https://pandas.pydata.org/pandas-docs/stable/user_guide/indexing.html#returning-a-view-versus-a-copy\n",
      "  data['savings_balance'][data['savings_balance'] < alt_sinir] = alt_sinir\n",
      "C:\\Users\\murat\\AppData\\Local\\Temp\\ipykernel_8528\\3137913936.py:45: SettingWithCopyWarning: \n",
      "A value is trying to be set on a copy of a slice from a DataFrame\n",
      "\n",
      "See the caveats in the documentation: https://pandas.pydata.org/pandas-docs/stable/user_guide/indexing.html#returning-a-view-versus-a-copy\n",
      "  data['savings_balance'][data['savings_balance'] > ust_sinir] = ust_sinir\n"
     ]
    }
   ],
   "source": [
    "# income\n",
    "Q1 = data['income'].quantile(0.25)\n",
    "Q3 = data['income'].quantile(0.75)\n",
    "IQR = Q3 - Q1\n",
    "\n",
    "alt_sinir = Q1 - 1.5 * IQR\n",
    "ust_sinir = Q3 + 1.5 * IQR\n",
    "\n",
    "data['income'][data['income'] < alt_sinir] = alt_sinir\n",
    "data['income'][data['income'] > ust_sinir] = ust_sinir\n",
    "\n",
    "# credit_score\n",
    "Q1 = data['credit_score'].quantile(0.25)\n",
    "Q3 = data['credit_score'].quantile(0.75)\n",
    "IQR = Q3 - Q1\n",
    "\n",
    "alt_sinir = Q1 - 1.5 * IQR\n",
    "ust_sinir = Q3 + 1.5 * IQR\n",
    "\n",
    "data['credit_score'][data['credit_score'] < alt_sinir] = alt_sinir\n",
    "data['credit_score'][data['credit_score'] > ust_sinir] = ust_sinir\n",
    "\n",
    "\n",
    "# credit_card_usage\n",
    "Q1 = data['credit_card_usage'].quantile(0.25)\n",
    "Q3 = data['credit_card_usage'].quantile(0.75)\n",
    "IQR = Q3 - Q1\n",
    "\n",
    "alt_sinir = Q1 - 1.5 * IQR\n",
    "ust_sinir = Q3 + 1.5 * IQR\n",
    "\n",
    "data['credit_card_usage'][data['credit_card_usage'] < alt_sinir] = alt_sinir\n",
    "data['credit_card_usage'][data['credit_card_usage'] > ust_sinir] = ust_sinir\n",
    "\n",
    "\n",
    "# savings_balance\n",
    "Q1 = data['savings_balance'].quantile(0.25)\n",
    "Q3 = data['savings_balance'].quantile(0.75)\n",
    "IQR = Q3 - Q1\n",
    "\n",
    "alt_sinir = Q1 - 1.5 * IQR\n",
    "ust_sinir = Q3 + 1.5 * IQR\n",
    "\n",
    "data['savings_balance'][data['savings_balance'] < alt_sinir] = alt_sinir\n",
    "data['savings_balance'][data['savings_balance'] > ust_sinir] = ust_sinir"
   ]
  },
  {
   "cell_type": "code",
   "execution_count": 63,
   "id": "403ec2af-2372-4452-a9fb-9ea969495574",
   "metadata": {},
   "outputs": [
    {
     "data": {
      "image/png": "[encoded data removed]",
      "text/plain": [
       "<Figure size 432x288 with 1 Axes>"
      ]
     },
     "metadata": {
      "needs_background": "light"
     },
     "output_type": "display_data"
    }
   ],
   "source": [
    "sns.boxplot(data=data);"
   ]
  },
  {
   "cell_type": "markdown",
   "id": "77196110-c5f1-400e-b75c-ef09082f5eb8",
   "metadata": {},
   "source": [
    "# Veri Görselleştirme"
   ]
  },
  {
   "cell_type": "code",
   "execution_count": 64,
   "id": "37377274-0ca0-440a-ac02-4fa37523a7f0",
   "metadata": {},
   "outputs": [
    {
     "data": {
      "image/png": "[encoded data removed]",
      "text/plain": [
       "<Figure size 432x288 with 1 Axes>"
      ]
     },
     "metadata": {
      "needs_background": "light"
     },
     "output_type": "display_data"
    }
   ],
   "source": [
    "# Yaş Dağılımı\n",
    "plt.hist(data['age'], bins=20)\n",
    "plt.title('Yaş Dağılımı')\n",
    "plt.xlabel('Yaş')\n",
    "plt.ylabel('Sıklık')\n",
    "plt.show()"
   ]
  },
  {
   "cell_type": "code",
   "execution_count": 65,
   "id": "d4dc80b8-9fa3-4922-9bbd-a31fa92556d4",
   "metadata": {},
   "outputs": [
    {
     "data": {
      "image/png": "[encoded data removed]",
      "text/plain": [
       "<Figure size 432x288 with 1 Axes>"
      ]
     },
     "metadata": {},
     "output_type": "display_data"
    }
   ],
   "source": [
    "# Cinsiyet Dağılımı\n",
    "\n",
    "labels = ['Male', 'Female']\n",
    "sizes = [len(data.loc[data['gender'] == 'male']), len(data.loc[data['gender'] == 'female'])]\n",
    "colors = ['blue', 'red']\n",
    "plt.pie(sizes, labels=labels, colors=colors, autopct='%1.1f%%')\n",
    "plt.title('Cinsiyet Dağılımı')\n",
    "plt.show()"
   ]
  },
  {
   "cell_type": "code",
   "execution_count": 66,
   "id": "04a6d1b6-edf9-46cd-b4a6-4721329fca3b",
   "metadata": {},
   "outputs": [
    {
     "data": {
      "image/png": "[encoded data removed]",
      "text/plain": [
       "<Figure size 432x288 with 1 Axes>"
      ]
     },
     "metadata": {
      "needs_background": "light"
     },
     "output_type": "display_data"
    }
   ],
   "source": [
    "# Gelir ve Tasarruf Dengesi\n",
    "\n",
    "plt.scatter(data['income'], data['savings_balance'])\n",
    "plt.title('Gelir ve Tasarruf Dengesi')\n",
    "plt.xlabel('Gelir')\n",
    "plt.ylabel('Tasarruf Dengesi')\n",
    "plt.show()"
   ]
  },
  {
   "cell_type": "code",
   "execution_count": 67,
   "id": "a2b092f0-9395-48f3-b143-293f6a25d69d",
   "metadata": {},
   "outputs": [
    {
     "data": {
      "image/png": "[encoded data removed]",
      "text/plain": [
       "<Figure size 432x288 with 1 Axes>"
      ]
     },
     "metadata": {
      "needs_background": "light"
     },
     "output_type": "display_data"
    }
   ],
   "source": [
    "# Kredi Kartı Kullanımı ve Kredi Skoru\n",
    "\n",
    "plt.scatter(data['credit_card_usage'], data['credit_score'])\n",
    "plt.title('Kredi Kartı Kullanımı ve Kredi Skoru')\n",
    "plt.xlabel('Kredi Kartı Kullanımı')\n",
    "plt.ylabel('Kredi Skoru')\n",
    "plt.show()"
   ]
  },
  {
   "cell_type": "markdown",
   "id": "03fed377-d16b-47d8-ad5c-a2973b98b5b8",
   "metadata": {},
   "source": [
    "# Model Oluşturma ve Değerlendirme"
   ]
  },
  {
   "cell_type": "code",
   "execution_count": 68,
   "id": "4c1fcb85-2ef3-47e2-a881-106f5c73d215",
   "metadata": {},
   "outputs": [],
   "source": [
    "# Kategorik Değişkeni Numerik değişkene çevirelim.\n",
    "\n",
    "lbe = LabelEncoder()\n",
    "data['gender'] = lbe.fit_transform(data['gender'])"
   ]
  },
  {
   "cell_type": "code",
   "execution_count": 69,
   "id": "e4bb214f-eec8-49ba-93f3-066b7c4ed783",
   "metadata": {},
   "outputs": [],
   "source": [
    "# bağımlı ve bağımsız değişkenleri oluşturalım.\n",
    "\n",
    "X = data.drop('savings_balance', axis=1)\n",
    "y = data['savings_balance']"
   ]
  },
  {
   "cell_type": "code",
   "execution_count": 70,
   "id": "6896ed6c-2eb4-415a-8ca3-3de00a9c7d1d",
   "metadata": {},
   "outputs": [],
   "source": [
    "# eğitim ve test setlerinin ayrılması\n",
    "X_train, X_test, y_train, y_test = train_test_split(X, y, test_size=0.2, random_state=42)"
   ]
  },
  {
   "cell_type": "code",
   "execution_count": 71,
   "id": "f24adb6a-292a-4cb2-aeec-427e7195de69",
   "metadata": {},
   "outputs": [
    {
     "name": "stdout",
     "output_type": "stream",
     "text": [
      "Linear Regression MSE: 31841558.65179, R-Squared: 0.08653\n",
      "Lasso MSE: 31844428.67934, R-Squared: 0.08644\n",
      "Ridge MSE: 31841876.76570, R-Squared: 0.08652\n",
      "ElasticNet MSE: 31884604.77367, R-Squared: 0.08529\n"
     ]
    }
   ],
   "source": [
    "# Model oluşturma, eğitme ve değerlendirme\n",
    "\n",
    "models = {\n",
    "    'Linear Regression': LinearRegression(),\n",
    "    'Lasso': Lasso(),\n",
    "    'Ridge': Ridge(),\n",
    "    'ElasticNet': ElasticNet()\n",
    "}\n",
    "\n",
    "for name, model in models.items():\n",
    "    model.fit(X_train, y_train)\n",
    "    y_pred = model.predict(X_test)\n",
    "    mse = mean_squared_error(y_test, y_pred)\n",
    "    r2 = r2_score(y_test, y_pred)\n",
    "    print(f'{name} MSE: {mse:.5f}, R-Squared: {r2:.5f}')"
   ]
  },
  {
   "cell_type": "markdown",
   "id": "ef9eb68c-d66d-4d62-8315-444c4d7242e5",
   "metadata": {},
   "source": [
    "#### ElasticNet ve Lasso modelleri benzer bir MSE ve R-Kare değeri üretirken, Linear Regression ve Ridge modelleri biraz daha iyi sonuç verdi. Ancak, fark çok büyük değil. En iyi modeli seçmek için, katsayıları ve etkisiz değişkenleri dışlamak için Lasso ve ElasticNet modellerinin kullanılabileceğini unutmamalıyız. R-kare değeri, bağımsız değişkenlerin bağımlı değişkeni ne kadar iyi açıklayabildiğini temsil eder ve 0 ile 1 arasında değer alır. Burada R-kare değerlerini incelediğimiz zaman modellerimiz pek verimli olamadığını görüyoruz. Bu değerlerin sebebi olarak, eksik ve aykırı gözlem analizi, kategorik değişkeni numerik değişkene çevirme aşamasını tekrardan değerlendirmek isteyebiliriz. Eğer sonuç istediğimiz kıvama gelmiyor ise de verilerde bir sorun olduğunu ve model kurmak için yeterince yeterli olmadıklarını düşünebiliriz."
   ]
  },
  {
   "cell_type": "markdown",
   "id": "c7e25028-05e8-4596-be3f-7cd8570b5f98",
   "metadata": {},
   "source": [
    "# Model Tuning ve Model Doğrulama"
   ]
  },
  {
   "cell_type": "code",
   "execution_count": 72,
   "id": "cfafb6fd-0eee-4acc-b9b3-9edac7f2b085",
   "metadata": {},
   "outputs": [
    {
     "name": "stdout",
     "output_type": "stream",
     "text": [
      "random_state=0 için R-Squared değeri: 0.07635082921975556\n",
      "random_state=10 için R-Squared değeri: 0.0649460756071818\n",
      "random_state=20 için R-Squared değeri: 0.057280015095656056\n",
      "random_state=42 için R-Squared değeri: 0.08652569694879497\n",
      "random_state=60 için R-Squared değeri: 0.03280618717329076\n",
      "random_state=80 için R-Squared değeri: 0.034266827973485015\n",
      "random_state=100 için R-Squared değeri: 0.09350141666675393\n"
     ]
    }
   ],
   "source": [
    "# random_state\n",
    "random_states = [0, 10, 20, 42, 60, 80, 100]\n",
    "\n",
    "for element in random_states:\n",
    "    X_train, X_test, y_train, y_test = train_test_split(X, y, test_size=0.2, random_state=element)\n",
    "    model = LinearRegression().fit(X_train, y_train)\n",
    "    y_pred = model.predict(X_test)\n",
    "    r2 = r2_score(y_test, y_pred)\n",
    "    print(f'random_state={element} için R-Squared değeri: {r2}')"
   ]
  },
  {
   "cell_type": "markdown",
   "id": "436d956e-e397-4542-8c32-0ce2c8509313",
   "metadata": {},
   "source": [
    "#### En iyi random_state değeri için modelimizi tekrardan oluşturalım."
   ]
  },
  {
   "cell_type": "code",
   "execution_count": 79,
   "id": "d0ba2e9a-6395-4672-a726-caf2ed22793a",
   "metadata": {},
   "outputs": [
    {
     "name": "stdout",
     "output_type": "stream",
     "text": [
      "R-kare değeri: 0.09351440578259584\n"
     ]
    }
   ],
   "source": [
    "X_train, X_test, y_train, y_test = train_test_split(X, y, test_size=0.2, random_state=100)\n",
    "model = Ridge().fit(X_train, y_train)\n",
    "y_pred = model.predict(X_test)\n",
    "r2 = r2_score(y_test, y_pred)\n",
    "print(f'R-kare değeri: {r2}')"
   ]
  },
  {
   "cell_type": "code",
   "execution_count": 80,
   "id": "391415dd-98a9-4203-9d52-30a4dcb3493d",
   "metadata": {},
   "outputs": [
    {
     "name": "stdout",
     "output_type": "stream",
     "text": [
      "En iyi hiperparametreler: {'alpha': 100}\n",
      "En iyi skor: 0.04469499150923386\n"
     ]
    }
   ],
   "source": [
    "# GridSearchCV ile hiperparametre ayarı yapalım.\n",
    "\n",
    "params = {'alpha':[0.1, 1, 10, 100]}\n",
    "grid = GridSearchCV(Ridge(), params, cv=5)\n",
    "grid.fit(X_train, y_train)\n",
    "\n",
    "print(f'En iyi hiperparametreler: {grid.best_params_}')\n",
    "print(f'En iyi skor: {grid.best_score_}')"
   ]
  },
  {
   "cell_type": "markdown",
   "id": "3adf2167-fb74-45dd-8e07-93b8c9831463",
   "metadata": {},
   "source": [
    "#### En iyi hiperparametre (alpha=100) değerini kullanarak modelimiz tekrardan oluşturacağız."
   ]
  },
  {
   "cell_type": "code",
   "execution_count": 81,
   "id": "b7f01951-ab2b-4d54-9ba1-a3597c9eb0e5",
   "metadata": {},
   "outputs": [
    {
     "name": "stdout",
     "output_type": "stream",
     "text": [
      "Ortalama MSE Değeri: 32056378.17327\n"
     ]
    }
   ],
   "source": [
    "# model doğrulama işlemi\n",
    "model = Ridge(alpha=100)\n",
    "scores = cross_val_score(model, X, y, cv=5, scoring='neg_mean_squared_error')\n",
    "print(f'Ortalama MSE Değeri: {-scores.mean():.5f}')"
   ]
  },
  {
   "cell_type": "code",
   "execution_count": 82,
   "id": "22a48129-8be6-43ec-901a-e946d2054ce5",
   "metadata": {},
   "outputs": [],
   "source": [
    "model = Ridge(alpha=100).fit(X_train, y_train)"
   ]
  },
  {
   "cell_type": "markdown",
   "id": "913dad46-94de-40cd-b180-00c7874adf7d",
   "metadata": {},
   "source": [
    "# Tahmin"
   ]
  },
  {
   "cell_type": "code",
   "execution_count": 83,
   "id": "234bb236-e1e7-4274-9ebb-c208fd16eb0c",
   "metadata": {},
   "outputs": [
    {
     "data": {
      "text/html": [
       "<div>\n",
       "<style scoped>\n",
       "    .dataframe tbody tr th:only-of-type {\n",
       "        vertical-align: middle;\n",
       "    }\n",
       "\n",
       "    .dataframe tbody tr th {\n",
       "        vertical-align: top;\n",
       "    }\n",
       "\n",
       "    .dataframe thead th {\n",
       "        text-align: right;\n",
       "    }\n",
       "</style>\n",
       "<table border=\"1\" class=\"dataframe\">\n",
       "  <thead>\n",
       "    <tr style=\"text-align: right;\">\n",
       "      <th></th>\n",
       "      <th>age</th>\n",
       "      <th>gender</th>\n",
       "      <th>income</th>\n",
       "      <th>credit_score</th>\n",
       "      <th>credit_card_usage</th>\n",
       "      <th>savings_balance</th>\n",
       "    </tr>\n",
       "  </thead>\n",
       "  <tbody>\n",
       "    <tr>\n",
       "      <th>0</th>\n",
       "      <td>56.000000</td>\n",
       "      <td>1</td>\n",
       "      <td>44448.004733</td>\n",
       "      <td>638.522520</td>\n",
       "      <td>6738.309185</td>\n",
       "      <td>23357.655859</td>\n",
       "    </tr>\n",
       "    <tr>\n",
       "      <th>1</th>\n",
       "      <td>46.000000</td>\n",
       "      <td>0</td>\n",
       "      <td>68811.570694</td>\n",
       "      <td>724.834961</td>\n",
       "      <td>4088.920948</td>\n",
       "      <td>27640.156797</td>\n",
       "    </tr>\n",
       "    <tr>\n",
       "      <th>2</th>\n",
       "      <td>41.090526</td>\n",
       "      <td>1</td>\n",
       "      <td>50592.040949</td>\n",
       "      <td>700.920800</td>\n",
       "      <td>700.920800</td>\n",
       "      <td>5076.244958</td>\n",
       "    </tr>\n",
       "    <tr>\n",
       "      <th>3</th>\n",
       "      <td>60.000000</td>\n",
       "      <td>0</td>\n",
       "      <td>28011.940434</td>\n",
       "      <td>694.702582</td>\n",
       "      <td>6910.601116</td>\n",
       "      <td>23804.233272</td>\n",
       "    </tr>\n",
       "    <tr>\n",
       "      <th>4</th>\n",
       "      <td>41.090526</td>\n",
       "      <td>1</td>\n",
       "      <td>50592.040949</td>\n",
       "      <td>700.920800</td>\n",
       "      <td>700.920800</td>\n",
       "      <td>5076.244958</td>\n",
       "    </tr>\n",
       "  </tbody>\n",
       "</table>\n",
       "</div>"
      ],
      "text/plain": [
       "         age  gender        income  credit_score  credit_card_usage  \\\n",
       "0  56.000000       1  44448.004733    638.522520        6738.309185   \n",
       "1  46.000000       0  68811.570694    724.834961        4088.920948   \n",
       "2  41.090526       1  50592.040949    700.920800         700.920800   \n",
       "3  60.000000       0  28011.940434    694.702582        6910.601116   \n",
       "4  41.090526       1  50592.040949    700.920800         700.920800   \n",
       "\n",
       "   savings_balance  \n",
       "0     23357.655859  \n",
       "1     27640.156797  \n",
       "2      5076.244958  \n",
       "3     23804.233272  \n",
       "4      5076.244958  "
      ]
     },
     "execution_count": 83,
     "metadata": {},
     "output_type": "execute_result"
    }
   ],
   "source": [
    "data.head()"
   ]
  },
  {
   "cell_type": "code",
   "execution_count": 85,
   "id": "65a8f0bb-a17b-4547-918e-b58fa5aa44b5",
   "metadata": {},
   "outputs": [
    {
     "name": "stdin",
     "output_type": "stream",
     "text": [
      "Yaşınızı Giriniz:  23\n",
      "Cinsiyetinizi Giriniz (Erkek/Kadın):  Erkek\n",
      "Gelirinizi Giriniz:  15000\n",
      "Kredi Skorunuzu Giriniz:  659\n",
      "Kredi Kartı Kullanım Değerinizi Giriniz:  6500\n"
     ]
    },
    {
     "name": "stdout",
     "output_type": "stream",
     "text": [
      "Tahmini tasarruf dengeniz:  20441\n"
     ]
    },
    {
     "name": "stderr",
     "output_type": "stream",
     "text": [
      "C:\\Users\\murat\\anaconda3\\lib\\site-packages\\sklearn\\base.py:450: UserWarning: X does not have valid feature names, but Ridge was fitted with feature names\n",
      "  warnings.warn(\n"
     ]
    }
   ],
   "source": [
    "age = int(input('Yaşınızı Giriniz: '))\n",
    "gender = input('Cinsiyetinizi Giriniz (Erkek/Kadın): ')\n",
    "income = float(input('Gelirinizi Giriniz: '))\n",
    "credit_score = float(input('Kredi Skorunuzu Giriniz: '))\n",
    "credit_card_usage = float(input('Kredi Kartı Kullanım Değerinizi Giriniz: '))\n",
    "\n",
    "if gender == 'Erkek':\n",
    "    predict = model.predict([[age, 1, income, credit_score, credit_card_usage]])\n",
    "    print('Tahmini tasarruf dengeniz: ', int(predict))\n",
    "elif gender == 'Kadın':\n",
    "    predict = model.predict([[age, 0, income, credit_score, credit_card_usage]])\n",
    "    print('Tahmini tasarruf dengeniz: ', int(predict))"
   ]
  },
  {
   "cell_type": "markdown",
   "id": "cc8e6f96-ebb6-4fef-b20b-04e10d5d5b58",
   "metadata": {},
   "source": [
    "# Sonuç \n",
    "\n",
    "### Model değerlendirme kısmında modellerimizin R-kare değerleri modellerimizin yeterince iyi olmadığını göstermişti. Ortalama kare hata değerlerimiz oldukça yüksek çıktı ve model tuning, model doğrulama işlemlerine rağmen istediğimiz seviyeye getiremedik. Fakat, üzerinde çalıştığımız veri setini kendimiz oluşturduk ve rastgele veriler ile doldurduk. Bu yüzden yaptığımız model gerçek hayatı temsil etmiyor. Gerçek hayatta karşılaştığımız bir veri setinden bu sonuçları alsaydık bile daha iyi sonuçlar için veriler üzerinde çalışmaya devam ederdik. "
   ]
  }
 ],
 "metadata": {
  "kernelspec": {
   "display_name": "Python 3 (ipykernel)",
   "language": "python",
   "name": "python3"
  },
  "language_info": {
   "codemirror_mode": {
    "name": "ipython",
    "version": 3
   },
   "file_extension": ".py",
   "mimetype": "text/x-python",
   "name": "python",
   "nbconvert_exporter": "python",
   "pygments_lexer": "ipython3",
   "version": "3.9.12"
  }
 },
 "nbformat": 4,
 "nbformat_minor": 5
}
